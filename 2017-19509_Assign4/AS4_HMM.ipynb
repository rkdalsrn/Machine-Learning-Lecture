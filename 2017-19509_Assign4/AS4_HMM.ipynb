{
  "nbformat": 4,
  "nbformat_minor": 0,
  "metadata": {
    "colab": {
      "name": "AS4-HMM.ipynb",
      "provenance": [],
      "collapsed_sections": []
    },
    "kernelspec": {
      "name": "python3",
      "display_name": "Python 3"
    },
    "accelerator": "GPU"
  },
  "cells": [
    {
      "cell_type": "markdown",
      "metadata": {
        "colab_type": "text",
        "id": "pjDL6W2Yg0SG"
      },
      "source": [
        "# M2608.001300 기계학습 기초 및 전기정보 응용<br> Assignment 4: Hidden Markov Model (HMM)"
      ]
    },
    {
      "cell_type": "code",
      "metadata": {
        "colab_type": "code",
        "id": "nuOq29jxKEmf",
        "colab": {}
      },
      "source": [
        "# Code from Chapter 16 of Machine Learning: An Algorithmic Perspective (2nd Edition)\n",
        "# by Stephen Marsland (http://stephenmonika.net)\n",
        "\n",
        "# You are free to use, change, or redistribute the code in any way you wish for\n",
        "# non-commercial purposes, but please maintain the name of the original author.\n",
        "# This code comes with no warranty of any kind.\n",
        "\n",
        "# Stephen Marsland, 2008, 2014\n",
        "\n",
        "# A basic Hidden Markov Model"
      ],
      "execution_count": 0,
      "outputs": []
    },
    {
      "cell_type": "markdown",
      "metadata": {
        "colab_type": "text",
        "id": "ZR7FCRJFg5d5"
      },
      "source": [
        "## Setup\n",
        "Check that Python 3.5 or later is installed (although Python 2.x may work, it is deprecated so we strongly recommend you use Python 3 instead)."
      ]
    },
    {
      "cell_type": "code",
      "metadata": {
        "colab_type": "code",
        "id": "QBC0Nvu2KFnr",
        "colab": {}
      },
      "source": [
        "# Python >=3.5 is required\n",
        "import sys\n",
        "assert sys.version_info >= (3, 5)\n",
        "\n",
        "# Common imports\n",
        "import numpy as np\n",
        "from pandas import DataFrame\n",
        "\n",
        "# to make this notebook's output stable across runs\n",
        "np.random.seed(4)"
      ],
      "execution_count": 0,
      "outputs": []
    },
    {
      "cell_type": "markdown",
      "metadata": {
        "colab_type": "text",
        "id": "jfFiAOFDhp72"
      },
      "source": [
        "## Problem 1. Evaluation problem\n",
        "Get the probability of seeing an observation. <br>\n",
        "We can use the following 2 algorithms:\n",
        "<br>\n",
        "* <font color=blue>*Forward algorithm*</font> (dynamic programming)\n",
        "* <font color=blue>*Backward algorithm*</font> (dynamic programming)"
      ]
    },
    {
      "cell_type": "code",
      "metadata": {
        "colab_type": "code",
        "id": "_OOmLzmHKFrh",
        "colab": {}
      },
      "source": [
        "scaling = False"
      ],
      "execution_count": 0,
      "outputs": []
    },
    {
      "cell_type": "code",
      "metadata": {
        "colab_type": "code",
        "id": "AwbnzB1JKTt9",
        "colab": {}
      },
      "source": [
        "\"\"\"\n",
        "Let's denote the parameters of HMM model as,\n",
        "\n",
        "pi : initial state probability\n",
        "a : transition probability\n",
        "b : emission probability\n",
        "obs : observation sequence\n",
        "\"\"\"\n",
        "def HMMfwd(pi, a, b, obs):\n",
        "\n",
        "\t# TODO: Forward algorithm\n",
        "\t####################### YOUR CODE HERE #######################\n",
        "\tnStates = np.shape(b)[0]\n",
        "\tT = np.shape(obs)[0]\n",
        "\n",
        "\talpha = np.zeros((nStates,T))\n",
        "\talpha[:,0] = pi*b[:,obs[0]]\n",
        "\n",
        "\tfor t in range(1,T):\n",
        "\t\tfor s in range(nStates):\n",
        "\t\t\talpha[s,t] = b[s,obs[t]] * np.sum(alpha[:,t-1] * a[:,s])\n",
        "\tc = np.ones((T))\n",
        " \n",
        "\tif scaling:\n",
        "\t\tfor t in range(T):\n",
        "\t\t\tc[t] = np.sum(alpha[:,t])\n",
        "\t\t\talpha[:,t] /= c[t]\n",
        "\n",
        "\t##############################################################\n",
        "\treturn alpha,c\n",
        "\n",
        "def HMMbwd(a, b, obs, c):\n",
        "\n",
        "\t# TODO: Backward algorithm\n",
        "\t####################### YOUR CODE HERE #######################\n",
        "\tnStates = np.shape(b)[0]\n",
        "\tT = np.shape(obs)[0]\n",
        "\n",
        "\tbeta = np.zeros((nStates,T))\n",
        "\tbeta[:,T-1] = 1.0\n",
        "\n",
        "\tfor t in range(T-2,-1,-1):\n",
        "\t\tfor s in range(nStates):\n",
        "\t\t\tbeta[s,t] = np.sum(b[:,obs[t+1]] * beta[:,t+1] * a[s,:])\n",
        "\n",
        "\tfor t in range(T):\n",
        "\t\tbeta[:,t] /= c[t]\n",
        "\t\t\n",
        "\tbeta[:,0] = b[:,obs[0]] * np.sum(beta[:,1] * pi)\n",
        " \n",
        "\t##############################################################\n",
        "\treturn beta"
      ],
      "execution_count": 0,
      "outputs": []
    },
    {
      "cell_type": "markdown",
      "metadata": {
        "colab_type": "text",
        "id": "MpX0npdWjhzd"
      },
      "source": [
        "## Problem 2. Decoding problem\n",
        "Get the underlying state sequence of an observation. <br>\n",
        "We can use the <font color=blue>*Viterbi algorithm*</font> (dynamic programming)."
      ]
    },
    {
      "cell_type": "code",
      "metadata": {
        "colab_type": "code",
        "id": "FRiouIgAKTj4",
        "colab": {}
      },
      "source": [
        "def Viterbi(pi, a, b, obs):\n",
        "\n",
        "\t# TODO: Viterbi algorithm\n",
        "\t####################### YOUR CODE HERE #######################\n",
        "\tnStates = np.shape(b)[0]\n",
        "\tT = np.shape(obs)[0]\n",
        "\n",
        "\tpath = np.zeros(T)\n",
        "\tdelta = np.zeros((nStates,T))\n",
        "\tphi = np.zeros((nStates,T))\n",
        "\n",
        "\tdelta[:,0] = pi * b[:,obs[0]]\n",
        "\tphi[:,0] = 0\n",
        "\n",
        "\tfor t in range(1,T):\n",
        "\t\tfor s in range(nStates):\n",
        "\t\t\tdelta[s,t] = np.max(delta[:,t-1]*a[:,s])*b[s,obs[t]]\n",
        "\t\t\tphi[s,t] = np.argmax(delta[:,t-1]*a[:,s])\n",
        "\n",
        "\tpath[T-1] = np.argmax(delta[:,T-1])\n",
        "\tfor t in range(T-2,-1,-1):\n",
        "\t\tpath[t] = phi[int(path[t+1]),t+1]\n",
        "\n",
        "\t##############################################################\n",
        "\treturn path, delta, phi"
      ],
      "execution_count": 0,
      "outputs": []
    },
    {
      "cell_type": "markdown",
      "metadata": {
        "colab_type": "text",
        "id": "w1yWqUPYkkKf"
      },
      "source": [
        "## Problem 3. Learning problem\n",
        "Get the best parameters for the model. <br>\n",
        "We can use the following 3 algorithms:\n",
        "* *MLE* (maximum likelihood estimation)\n",
        "* *Viterbi training* (different from Viterbi decoding)\n",
        "* *Baum Welch algorithm* (a.k.a. forward-backward algorithm, uses expectation-maximization)\n",
        "\n",
        "Here we implement the <font color=blue>*Baum Welch algorithm*</font>."
      ]
    },
    {
      "cell_type": "code",
      "metadata": {
        "colab_type": "code",
        "id": "cYyncMhTKFv4",
        "colab": {}
      },
      "source": [
        "def BaumWelch(obs,nStates):\n",
        "\n",
        "\tT = np.shape(obs)[0]\n",
        "\txi = np.zeros((nStates,nStates,T))\n",
        "\n",
        "\t# Initialise pi, a, b randomly\n",
        "\tpi = 1./nStates*np.ones((nStates))\n",
        "\ta = np.random.rand(nStates,nStates)\n",
        "\tb = np.random.rand(nStates,np.max(obs)+1)\n",
        "\n",
        "\ttol = 1e-5\n",
        "\terror = tol+1\n",
        "\tmaxits = 100\n",
        "\tnits = 0\n",
        "\n",
        "\t# TODO: Baum Welch algorithm\n",
        "\t####################### YOUR CODE HERE #######################\n",
        "\twhile ((error > tol) & (nits < maxits)):\n",
        "\t\tnits += 1\n",
        "\t\toldpi = pi.copy()\n",
        "\t\tolda = a.copy()\n",
        "\t\toldb = b.copy()\n",
        "\n",
        "\t\t# E step\n",
        "\t\talpha,c = HMMfwd(pi,a,b,obs)\n",
        "\t\tbeta = HMMbwd(a,b,obs,c) \n",
        "\n",
        "\t\tfor t in range(T-1):\n",
        "\t\t\tfor i in range(nStates):\n",
        "\t\t\t\tfor j in range(nStates):\n",
        "\t\t\t\t\txi[i,j,t] = alpha[i,t]*a[i,j]*b[j,obs[t+1]]*beta[j,t+1]\n",
        "\t\t\txi[:,:,t] /= np.sum(xi[:,:,t])\n",
        "\n",
        "\t\t# The last step has no b, beta in\n",
        "\t\tfor i in range(nStates):\n",
        "\t\t\tfor j in range(nStates):\n",
        "\t\t\t\txi[i,j,T-1] = alpha[i,T-1]*a[i,j]\n",
        "\t\txi[:,:,T-1] /= np.sum(xi[:,:,T-1])\n",
        "\n",
        "\t\t# M step\n",
        "\t\tfor i in range(nStates):\n",
        "\t\t\tpi[i] = np.sum(xi[i,:,0])\n",
        "\t\t\tfor j in range(nStates):\n",
        "\t\t\t\ta[i,j] = np.sum(xi[i,j,:T-1])/np.sum(xi[i,:,:T-1])\n",
        "\t\n",
        "\t\t\tfor k in range(max(obs)):\n",
        "\t\t\t\tfound = (obs==k).nonzero()\n",
        "\t\t\t\tb[i,k] = np.sum(xi[i,:,found])/np.sum(xi[i,:,:])\n",
        "\n",
        "\t\terror = (np.abs(a-olda)).max() + (np.abs(b-oldb)).max() \n",
        "\t\n",
        "\t##############################################################\n",
        "\treturn pi, a, b\t"
      ],
      "execution_count": 0,
      "outputs": []
    },
    {
      "cell_type": "markdown",
      "metadata": {
        "colab_type": "text",
        "id": "pcDIJe5hmNPv"
      },
      "source": [
        "## Toy examples\n",
        "Here are the parameters for HMM model."
      ]
    },
    {
      "cell_type": "code",
      "metadata": {
        "colab_type": "code",
        "id": "nsr_jKaSnBi8",
        "colab": {}
      },
      "source": [
        "transition_data = {'state': ['TV', 'Bar', 'Party', 'Study'],\n",
        "                          'TV'    : [0.4, 0.3, 0.1, 0.2],\n",
        "                          'Bar'   : [0.6, 0.05, 0.1, 0.25],\n",
        "                          'Party' : [0.7, 0.05, 0.05, 0.2],\n",
        "                          'Study' : [0.3, 0.4, 0.25, 0.05]}\n",
        "\n",
        "emission_data = {'observation': ['tired', 'hangover', 'anxiety', 'good'],\n",
        "                        'TV'    : [0.2, 0.1, 0.2, 0.5],\n",
        "                        'Bar'   : [0.4, 0.2, 0.1, 0.3],\n",
        "                        'Party' : [0.3, 0.4, 0.2, 0.1],\n",
        "                        'Study' : [0.3, 0.05, 0.3, 0.35]}\n",
        "\n",
        "transition_probability = DataFrame(transition_data, columns=['state', 'TV', 'Bar', 'Party', 'Study'])\n",
        "emission_probability = DataFrame(emission_data, columns=['observation', 'TV', 'Bar', 'Party', 'Study'])"
      ],
      "execution_count": 0,
      "outputs": []
    },
    {
      "cell_type": "code",
      "metadata": {
        "colab_type": "code",
        "id": "9pflIWWSsUJg",
        "outputId": "cf9bbf53-d0ed-43a7-dfdd-acfcc155b99d",
        "colab": {
          "base_uri": "https://localhost:8080/",
          "height": 173
        }
      },
      "source": [
        "transition_probability"
      ],
      "execution_count": 0,
      "outputs": [
        {
          "output_type": "execute_result",
          "data": {
            "text/html": [
              "<div>\n",
              "<style scoped>\n",
              "    .dataframe tbody tr th:only-of-type {\n",
              "        vertical-align: middle;\n",
              "    }\n",
              "\n",
              "    .dataframe tbody tr th {\n",
              "        vertical-align: top;\n",
              "    }\n",
              "\n",
              "    .dataframe thead th {\n",
              "        text-align: right;\n",
              "    }\n",
              "</style>\n",
              "<table border=\"1\" class=\"dataframe\">\n",
              "  <thead>\n",
              "    <tr style=\"text-align: right;\">\n",
              "      <th></th>\n",
              "      <th>state</th>\n",
              "      <th>TV</th>\n",
              "      <th>Bar</th>\n",
              "      <th>Party</th>\n",
              "      <th>Study</th>\n",
              "    </tr>\n",
              "  </thead>\n",
              "  <tbody>\n",
              "    <tr>\n",
              "      <th>0</th>\n",
              "      <td>TV</td>\n",
              "      <td>0.4</td>\n",
              "      <td>0.60</td>\n",
              "      <td>0.70</td>\n",
              "      <td>0.30</td>\n",
              "    </tr>\n",
              "    <tr>\n",
              "      <th>1</th>\n",
              "      <td>Bar</td>\n",
              "      <td>0.3</td>\n",
              "      <td>0.05</td>\n",
              "      <td>0.05</td>\n",
              "      <td>0.40</td>\n",
              "    </tr>\n",
              "    <tr>\n",
              "      <th>2</th>\n",
              "      <td>Party</td>\n",
              "      <td>0.1</td>\n",
              "      <td>0.10</td>\n",
              "      <td>0.05</td>\n",
              "      <td>0.25</td>\n",
              "    </tr>\n",
              "    <tr>\n",
              "      <th>3</th>\n",
              "      <td>Study</td>\n",
              "      <td>0.2</td>\n",
              "      <td>0.25</td>\n",
              "      <td>0.20</td>\n",
              "      <td>0.05</td>\n",
              "    </tr>\n",
              "  </tbody>\n",
              "</table>\n",
              "</div>"
            ],
            "text/plain": [
              "   state   TV   Bar  Party  Study\n",
              "0     TV  0.4  0.60   0.70   0.30\n",
              "1    Bar  0.3  0.05   0.05   0.40\n",
              "2  Party  0.1  0.10   0.05   0.25\n",
              "3  Study  0.2  0.25   0.20   0.05"
            ]
          },
          "metadata": {
            "tags": []
          },
          "execution_count": 27
        }
      ]
    },
    {
      "cell_type": "code",
      "metadata": {
        "colab_type": "code",
        "id": "cz5in1TzsZp5",
        "outputId": "e403cd68-7da2-4feb-cdc4-e4c266ba1afa",
        "colab": {
          "base_uri": "https://localhost:8080/",
          "height": 173
        }
      },
      "source": [
        "emission_probability"
      ],
      "execution_count": 0,
      "outputs": [
        {
          "output_type": "execute_result",
          "data": {
            "text/html": [
              "<div>\n",
              "<style scoped>\n",
              "    .dataframe tbody tr th:only-of-type {\n",
              "        vertical-align: middle;\n",
              "    }\n",
              "\n",
              "    .dataframe tbody tr th {\n",
              "        vertical-align: top;\n",
              "    }\n",
              "\n",
              "    .dataframe thead th {\n",
              "        text-align: right;\n",
              "    }\n",
              "</style>\n",
              "<table border=\"1\" class=\"dataframe\">\n",
              "  <thead>\n",
              "    <tr style=\"text-align: right;\">\n",
              "      <th></th>\n",
              "      <th>observation</th>\n",
              "      <th>TV</th>\n",
              "      <th>Bar</th>\n",
              "      <th>Party</th>\n",
              "      <th>Study</th>\n",
              "    </tr>\n",
              "  </thead>\n",
              "  <tbody>\n",
              "    <tr>\n",
              "      <th>0</th>\n",
              "      <td>tired</td>\n",
              "      <td>0.2</td>\n",
              "      <td>0.4</td>\n",
              "      <td>0.3</td>\n",
              "      <td>0.30</td>\n",
              "    </tr>\n",
              "    <tr>\n",
              "      <th>1</th>\n",
              "      <td>hangover</td>\n",
              "      <td>0.1</td>\n",
              "      <td>0.2</td>\n",
              "      <td>0.4</td>\n",
              "      <td>0.05</td>\n",
              "    </tr>\n",
              "    <tr>\n",
              "      <th>2</th>\n",
              "      <td>anxiety</td>\n",
              "      <td>0.2</td>\n",
              "      <td>0.1</td>\n",
              "      <td>0.2</td>\n",
              "      <td>0.30</td>\n",
              "    </tr>\n",
              "    <tr>\n",
              "      <th>3</th>\n",
              "      <td>good</td>\n",
              "      <td>0.5</td>\n",
              "      <td>0.3</td>\n",
              "      <td>0.1</td>\n",
              "      <td>0.35</td>\n",
              "    </tr>\n",
              "  </tbody>\n",
              "</table>\n",
              "</div>"
            ],
            "text/plain": [
              "  observation   TV  Bar  Party  Study\n",
              "0       tired  0.2  0.4    0.3   0.30\n",
              "1    hangover  0.1  0.2    0.4   0.05\n",
              "2     anxiety  0.2  0.1    0.2   0.30\n",
              "3        good  0.5  0.3    0.1   0.35"
            ]
          },
          "metadata": {
            "tags": []
          },
          "execution_count": 29
        }
      ]
    },
    {
      "cell_type": "code",
      "metadata": {
        "colab_type": "code",
        "id": "XMoWszk7aKN9",
        "colab": {}
      },
      "source": [
        "try:\n",
        "    a = transition_probability.drop(['state'], axis=1).to_numpy()\n",
        "    b = emission_probability.drop(['observation'], axis=1).to_numpy()\n",
        "except:\n",
        "    a = transition_probability.drop(['state'], axis=1).values\n",
        "    b = emission_probability.drop(['observation'], axis=1).values"
      ],
      "execution_count": 0,
      "outputs": []
    },
    {
      "cell_type": "code",
      "metadata": {
        "colab_type": "code",
        "id": "c8g8LFTL6ErZ",
        "colab": {}
      },
      "source": [
        "# Assume the initial state probabilites are all equal to 0.25\n",
        "pi = np.array([0.25, 0.25, 0.25, 0.25])\n",
        "# obs = np.array(['tired', 'tired', 'good', 'hangover', 'hangover', 'anxiety', 'hangover', 'good'])\n",
        "obs = np.array([0, 0, 3, 1, 1, 2, 1, 3])"
      ],
      "execution_count": 0,
      "outputs": []
    },
    {
      "cell_type": "markdown",
      "metadata": {
        "colab_type": "text",
        "id": "tvLi0R9a5m3r"
      },
      "source": [
        "## Problem 4-1. \n",
        "What is the probability of seeing current observation?"
      ]
    },
    {
      "cell_type": "code",
      "metadata": {
        "colab_type": "code",
        "id": "GRylHpiKK2yu",
        "outputId": "64ef4f90-4d6d-404c-e854-3fa4789d321c",
        "colab": {
          "base_uri": "https://localhost:8080/",
          "height": 170
        }
      },
      "source": [
        "####################### YOUR CODE HERE #######################\n",
        "HMMfwd(pi,a,b,obs)\n",
        "print(\"alpha\")\n",
        "print(alpha)\n",
        "##############################################################"
      ],
      "execution_count": 0,
      "outputs": [
        {
          "output_type": "stream",
          "text": [
            "alpha\n",
            "[[1.89262159e-203 1.44387932e-013 8.78402661e-003 1.68923798e-002\n",
            "  8.33693765e-003 1.87045432e-017 1.21399924e-010 1.86552488e-009]\n",
            " [0.00000000e+000 2.14600677e-247 6.68727075e-015 2.08962962e-042\n",
            "  4.01852348e-042 3.69440721e-003 4.44961851e-057 1.51292624e-010]\n",
            " [0.00000000e+000 8.66945614e-182 4.25366944e-037 6.68727050e-015\n",
            "  2.07965281e-033 1.61902846e-204 3.69440707e-003 2.00960426e-023]\n",
            " [5.34279472e-001 1.81401788e-001 3.88693913e-002 7.51022066e-012\n",
            "  1.45313428e-021 1.91257999e-146 7.55499312e-086 1.24567437e-003]]\n"
          ],
          "name": "stdout"
        }
      ]
    },
    {
      "cell_type": "markdown",
      "metadata": {
        "colab_type": "text",
        "id": "1vRZuEAnK2yw"
      },
      "source": [
        "## Problem 4-2.\n",
        "Given the current observation, what is the most likely sequence of states?"
      ]
    },
    {
      "cell_type": "code",
      "metadata": {
        "colab_type": "code",
        "id": "H0l3-NkXK2yx",
        "outputId": "0654505e-88bf-495f-a81b-a47365a179b2",
        "colab": {
          "base_uri": "https://localhost:8080/",
          "height": 34
        }
      },
      "source": [
        "####################### YOUR CODE HERE #######################\n",
        "HMMfwd(pi,a,b,obs)\n",
        "path, delta, phi = Viterbi(pi,a,b,obs)\n",
        "print(path)\n",
        "##############################################################"
      ],
      "execution_count": 0,
      "outputs": [
        {
          "output_type": "stream",
          "text": [
            "[3. 0. 0. 0. 0. 1. 0. 2.]\n"
          ],
          "name": "stdout"
        }
      ]
    },
    {
      "cell_type": "markdown",
      "metadata": {
        "colab_type": "text",
        "id": "LGr1JvFSK2y0"
      },
      "source": [
        "## Problem 4-3.\n",
        "Given the current observation and the model, find the model parameters (transition probability, emission probability, initial state probability) that best fits the data."
      ]
    },
    {
      "cell_type": "code",
      "metadata": {
        "colab_type": "code",
        "id": "H_KiGJHzK2y1",
        "scrolled": true,
        "outputId": "6fe0cfa2-8b47-4626-c502-6d90d6b20193",
        "colab": {
          "base_uri": "https://localhost:8080/",
          "height": 221
        }
      },
      "source": [
        "####################### YOUR CODE HERE #######################\n",
        "HMMfwd(pi,a,b,obs)\n",
        "Viterbi(pi,a,b,obs)\n",
        "pi, a, b = BaumWelch(obs,4)\n",
        "print(\"transition probability\")\n",
        "print(a)\n",
        "print(\"emission probability\")\n",
        "print(b)\n",
        "print(\"initial state probability\")\n",
        "print(pi)\n",
        "##############################################################"
      ],
      "execution_count": 0,
      "outputs": [
        {
          "output_type": "stream",
          "text": [
            "transition probability\n",
            "[[5.56862626e-001 4.43137374e-001 2.97010935e-034 1.22448509e-059]\n",
            " [3.70771184e-008 6.53599065e-157 9.99999963e-001 5.26388985e-075]\n",
            " [3.78290256e-006 3.77264416e-007 3.10236529e-019 9.99995840e-001]\n",
            " [3.64516048e-001 3.23091217e-038 1.33736302e-034 6.35483952e-001]]\n",
            "emission probability\n",
            "[[7.41388348e-013 8.86273257e-001 4.02895560e-015 1.32842006e-001]\n",
            " [1.24318983e-209 5.36830636e-040 9.99999608e-001 1.04515242e-001]\n",
            " [1.21331636e-147 1.00000000e+000 6.53844968e-169 1.75336714e-002]\n",
            " [5.34279472e-001 3.04046753e-010 2.07113912e-125 3.37179831e-001]]\n",
            "initial state probability\n",
            "[2.55280731e-191 0.00000000e+000 0.00000000e+000 1.00000000e+000]\n"
          ],
          "name": "stdout"
        }
      ]
    },
    {
      "cell_type": "code",
      "metadata": {
        "colab_type": "code",
        "id": "V6VXeQ3agO7O",
        "colab": {}
      },
      "source": [
        ""
      ],
      "execution_count": 0,
      "outputs": []
    }
  ]
}